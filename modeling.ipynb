{
 "cells": [
  {
   "metadata": {},
   "cell_type": "markdown",
   "source": "## Development of Models",
   "id": "9c769d3c7a5c391a"
  },
  {
   "metadata": {
    "ExecuteTime": {
     "end_time": "2024-10-11T18:51:09.555875Z",
     "start_time": "2024-10-11T18:51:09.552353Z"
    }
   },
   "cell_type": "code",
   "source": [
    "# for data manipulation\n",
    "import pandas as pd\n",
    "import numpy as np\n",
    "\n",
    "# for making ml pipelines reproducible\n",
    "from sklearn.compose import ColumnTransformer\n",
    "from sklearn.preprocessing import OneHotEncoder, OrdinalEncoder, StandardScaler\n",
    "from sklearn.pipeline import make_pipeline\n",
    "\n",
    "# for building models\n",
    "from sklearn.ensemble import RandomForestClassifier\n",
    "from sklearn.neural_network import MLPClassifier\n",
    "from sklearn.tree import DecisionTreeClassifier\n",
    "\n",
    "# for data augmentation\n",
    "from sklearn.decomposition import PCA\n",
    "from sklearn.preprocessing import FunctionTransformer"
   ],
   "id": "c26356c7428550ae",
   "outputs": [],
   "execution_count": 492
  },
  {
   "metadata": {
    "ExecuteTime": {
     "end_time": "2024-10-11T18:51:09.563957Z",
     "start_time": "2024-10-11T18:51:09.561788Z"
    }
   },
   "cell_type": "code",
   "source": [
    "# helper function for submission\n",
    "def create_submission(model, test_data):\n",
    "    predictions = model.predict_proba(test_data)\n",
    "    test_data[\"loan_status\"] = predictions[:, 1]\n",
    "    return test_data.reset_index()[[\"id\", \"loan_status\"]]"
   ],
   "id": "b7074c966bcfaf3f",
   "outputs": [],
   "execution_count": 493
  },
  {
   "metadata": {},
   "cell_type": "markdown",
   "source": "### Load Data",
   "id": "ec9bc5537db7497"
  },
  {
   "metadata": {
    "ExecuteTime": {
     "end_time": "2024-10-11T18:51:09.610788Z",
     "start_time": "2024-10-11T18:51:09.571551Z"
    }
   },
   "cell_type": "code",
   "source": [
    "# load in training data\n",
    "train = pd.read_csv(\"data/train.csv\", index_col=\"id\")\n",
    "validation = train.sample(1000, random_state=42)\n",
    "train = train.loc[~train.index.isin(validation.index)]\n",
    "y_train, y_validation = train.pop(\"loan_status\"), validation.pop(\"loan_status\")\n",
    "\n",
    "# ensuring split worked\n",
    "print(f\"training shape: {train.shape}\")\n",
    "print(f\"validation shape: {validation.shape}\")"
   ],
   "id": "474a95e35b156c0",
   "outputs": [
    {
     "name": "stdout",
     "output_type": "stream",
     "text": [
      "training shape: (57645, 11)\n",
      "validation shape: (1000, 11)\n"
     ]
    }
   ],
   "execution_count": 494
  },
  {
   "metadata": {},
   "cell_type": "markdown",
   "source": "### First Model = Decision Tree",
   "id": "47c11a96ec2eef9d"
  },
  {
   "metadata": {},
   "cell_type": "markdown",
   "source": "#### Build Pipeline",
   "id": "86bccfcd9031a2b0"
  },
  {
   "metadata": {
    "ExecuteTime": {
     "end_time": "2024-10-11T18:51:09.618280Z",
     "start_time": "2024-10-11T18:51:09.616492Z"
    }
   },
   "cell_type": "code",
   "source": [
    "numeric_features = [\n",
    "    \"person_age\", \"person_income\", \"person_emp_length\", \"loan_amnt\",\n",
    "    \"loan_int_rate\", \"loan_percent_income\", \"cb_person_cred_hist_length\"\n",
    "]\n",
    "categorical_features = [\n",
    "    \"person_home_ownership\", \"loan_intent\",\n",
    "    \"cb_person_default_on_file\"\n",
    "]\n",
    "ordinal_features = [\"loan_grade\"]"
   ],
   "id": "7f1efd67385e0516",
   "outputs": [],
   "execution_count": 495
  },
  {
   "metadata": {
    "ExecuteTime": {
     "end_time": "2024-10-11T18:51:09.626962Z",
     "start_time": "2024-10-11T18:51:09.625038Z"
    }
   },
   "cell_type": "code",
   "source": [
    "numeric_transforms = make_pipeline(StandardScaler())\n",
    "categorical_transforms = make_pipeline(OneHotEncoder(handle_unknown=\"ignore\"))\n",
    "ordinal_transforms = make_pipeline(\n",
    "    OrdinalEncoder()\n",
    ")\n",
    "\n",
    "# column transformer\n",
    "preprocessing = ColumnTransformer(transformers=[\n",
    "    (\"numeric\", numeric_transforms, numeric_features),\n",
    "    (\"categorical\", categorical_transforms, categorical_features),\n",
    "    (\"ordinal\", ordinal_transforms, ordinal_features)\n",
    "])"
   ],
   "id": "c8bb4bc3eee8ff92",
   "outputs": [],
   "execution_count": 496
  },
  {
   "metadata": {
    "ExecuteTime": {
     "end_time": "2024-10-11T18:51:09.639916Z",
     "start_time": "2024-10-11T18:51:09.635413Z"
    }
   },
   "cell_type": "code",
   "source": "train.head()",
   "id": "bf3b6c7b7aa1ecd7",
   "outputs": [
    {
     "data": {
      "text/plain": [
       "    person_age  person_income person_home_ownership  person_emp_length  \\\n",
       "id                                                                       \n",
       "0           37          35000                  RENT                0.0   \n",
       "1           22          56000                   OWN                6.0   \n",
       "2           29          28800                   OWN                8.0   \n",
       "3           30          70000                  RENT               14.0   \n",
       "4           22          60000                  RENT                2.0   \n",
       "\n",
       "   loan_intent loan_grade  loan_amnt  loan_int_rate  loan_percent_income  \\\n",
       "id                                                                         \n",
       "0    EDUCATION          B       6000          11.49                 0.17   \n",
       "1      MEDICAL          C       4000          13.35                 0.07   \n",
       "2     PERSONAL          A       6000           8.90                 0.21   \n",
       "3      VENTURE          B      12000          11.11                 0.17   \n",
       "4      MEDICAL          A       6000           6.92                 0.10   \n",
       "\n",
       "   cb_person_default_on_file  cb_person_cred_hist_length  \n",
       "id                                                        \n",
       "0                          N                          14  \n",
       "1                          N                           2  \n",
       "2                          N                          10  \n",
       "3                          N                           5  \n",
       "4                          N                           3  "
      ],
      "text/html": [
       "<div>\n",
       "<style scoped>\n",
       "    .dataframe tbody tr th:only-of-type {\n",
       "        vertical-align: middle;\n",
       "    }\n",
       "\n",
       "    .dataframe tbody tr th {\n",
       "        vertical-align: top;\n",
       "    }\n",
       "\n",
       "    .dataframe thead th {\n",
       "        text-align: right;\n",
       "    }\n",
       "</style>\n",
       "<table border=\"1\" class=\"dataframe\">\n",
       "  <thead>\n",
       "    <tr style=\"text-align: right;\">\n",
       "      <th></th>\n",
       "      <th>person_age</th>\n",
       "      <th>person_income</th>\n",
       "      <th>person_home_ownership</th>\n",
       "      <th>person_emp_length</th>\n",
       "      <th>loan_intent</th>\n",
       "      <th>loan_grade</th>\n",
       "      <th>loan_amnt</th>\n",
       "      <th>loan_int_rate</th>\n",
       "      <th>loan_percent_income</th>\n",
       "      <th>cb_person_default_on_file</th>\n",
       "      <th>cb_person_cred_hist_length</th>\n",
       "    </tr>\n",
       "    <tr>\n",
       "      <th>id</th>\n",
       "      <th></th>\n",
       "      <th></th>\n",
       "      <th></th>\n",
       "      <th></th>\n",
       "      <th></th>\n",
       "      <th></th>\n",
       "      <th></th>\n",
       "      <th></th>\n",
       "      <th></th>\n",
       "      <th></th>\n",
       "      <th></th>\n",
       "    </tr>\n",
       "  </thead>\n",
       "  <tbody>\n",
       "    <tr>\n",
       "      <th>0</th>\n",
       "      <td>37</td>\n",
       "      <td>35000</td>\n",
       "      <td>RENT</td>\n",
       "      <td>0.0</td>\n",
       "      <td>EDUCATION</td>\n",
       "      <td>B</td>\n",
       "      <td>6000</td>\n",
       "      <td>11.49</td>\n",
       "      <td>0.17</td>\n",
       "      <td>N</td>\n",
       "      <td>14</td>\n",
       "    </tr>\n",
       "    <tr>\n",
       "      <th>1</th>\n",
       "      <td>22</td>\n",
       "      <td>56000</td>\n",
       "      <td>OWN</td>\n",
       "      <td>6.0</td>\n",
       "      <td>MEDICAL</td>\n",
       "      <td>C</td>\n",
       "      <td>4000</td>\n",
       "      <td>13.35</td>\n",
       "      <td>0.07</td>\n",
       "      <td>N</td>\n",
       "      <td>2</td>\n",
       "    </tr>\n",
       "    <tr>\n",
       "      <th>2</th>\n",
       "      <td>29</td>\n",
       "      <td>28800</td>\n",
       "      <td>OWN</td>\n",
       "      <td>8.0</td>\n",
       "      <td>PERSONAL</td>\n",
       "      <td>A</td>\n",
       "      <td>6000</td>\n",
       "      <td>8.90</td>\n",
       "      <td>0.21</td>\n",
       "      <td>N</td>\n",
       "      <td>10</td>\n",
       "    </tr>\n",
       "    <tr>\n",
       "      <th>3</th>\n",
       "      <td>30</td>\n",
       "      <td>70000</td>\n",
       "      <td>RENT</td>\n",
       "      <td>14.0</td>\n",
       "      <td>VENTURE</td>\n",
       "      <td>B</td>\n",
       "      <td>12000</td>\n",
       "      <td>11.11</td>\n",
       "      <td>0.17</td>\n",
       "      <td>N</td>\n",
       "      <td>5</td>\n",
       "    </tr>\n",
       "    <tr>\n",
       "      <th>4</th>\n",
       "      <td>22</td>\n",
       "      <td>60000</td>\n",
       "      <td>RENT</td>\n",
       "      <td>2.0</td>\n",
       "      <td>MEDICAL</td>\n",
       "      <td>A</td>\n",
       "      <td>6000</td>\n",
       "      <td>6.92</td>\n",
       "      <td>0.10</td>\n",
       "      <td>N</td>\n",
       "      <td>3</td>\n",
       "    </tr>\n",
       "  </tbody>\n",
       "</table>\n",
       "</div>"
      ]
     },
     "execution_count": 497,
     "metadata": {},
     "output_type": "execute_result"
    }
   ],
   "execution_count": 497
  },
  {
   "metadata": {
    "ExecuteTime": {
     "end_time": "2024-10-11T18:51:09.786107Z",
     "start_time": "2024-10-11T18:51:09.675044Z"
    }
   },
   "cell_type": "code",
   "source": [
    "tree = make_pipeline(\n",
    "    preprocessing,\n",
    "    DecisionTreeClassifier(random_state=42, max_depth=15, max_leaf_nodes=25)\n",
    ")\n",
    "tree = tree.fit(train, y_train)"
   ],
   "id": "8c9cfd09bfcdd3b9",
   "outputs": [],
   "execution_count": 498
  },
  {
   "metadata": {
    "ExecuteTime": {
     "end_time": "2024-10-11T18:51:09.856006Z",
     "start_time": "2024-10-11T18:51:09.821087Z"
    }
   },
   "cell_type": "code",
   "source": [
    "validation_score = tree.score(validation, y_validation)\n",
    "training_score = tree.score(train, y_train)\n",
    "\n",
    "# displaying scores of training vs validation\n",
    "print(f\"training accuracy: {training_score}\")\n",
    "print(f\"validation accuracy: {validation_score}\")"
   ],
   "id": "9a3b07580f7a716c",
   "outputs": [
    {
     "name": "stdout",
     "output_type": "stream",
     "text": [
      "training accuracy: 0.9501951600312256\n",
      "validation accuracy: 0.957\n"
     ]
    }
   ],
   "execution_count": 499
  },
  {
   "metadata": {
    "ExecuteTime": {
     "end_time": "2024-10-11T18:51:09.905218Z",
     "start_time": "2024-10-11T18:51:09.864289Z"
    }
   },
   "cell_type": "code",
   "source": "output = create_submission(tree, pd.read_csv(\"data/test.csv\", index_col=\"id\"))",
   "id": "2f4cea8ff643b8a8",
   "outputs": [],
   "execution_count": 500
  },
  {
   "metadata": {
    "ExecuteTime": {
     "end_time": "2024-10-11T18:51:09.942240Z",
     "start_time": "2024-10-11T18:51:09.907850Z"
    }
   },
   "cell_type": "code",
   "source": "output.to_csv(\"output/dt_tuned.csv\", index=False)",
   "id": "4c622c9335eff145",
   "outputs": [],
   "execution_count": 501
  },
  {
   "metadata": {},
   "cell_type": "markdown",
   "source": "### Second Model = Random Forest",
   "id": "39810c9caa00804"
  },
  {
   "metadata": {
    "ExecuteTime": {
     "end_time": "2024-10-11T18:51:13.335127Z",
     "start_time": "2024-10-11T18:51:09.944448Z"
    }
   },
   "cell_type": "code",
   "source": [
    "# building a forest pipeline\n",
    "forest = make_pipeline(\n",
    "    preprocessing,\n",
    "    RandomForestClassifier(random_state=42, max_depth=20)\n",
    ")\n",
    "forest = forest.fit(train, y_train)"
   ],
   "id": "6d6855ec7e066487",
   "outputs": [],
   "execution_count": 502
  },
  {
   "metadata": {
    "ExecuteTime": {
     "end_time": "2024-10-11T18:51:13.845329Z",
     "start_time": "2024-10-11T18:51:13.342060Z"
    }
   },
   "cell_type": "code",
   "source": [
    "# fitting and scoring model\n",
    "training_score = forest.score(train, y_train)\n",
    "validation_score = forest.score(validation, y_validation)\n",
    "\n",
    "# view results\n",
    "print(f\"training accuracy: {training_score}\")\n",
    "print(f\"validation accuracy: {validation_score}\")"
   ],
   "id": "2ecd89d75355b95b",
   "outputs": [
    {
     "name": "stdout",
     "output_type": "stream",
     "text": [
      "training accuracy: 0.9826871367854975\n",
      "validation accuracy: 0.96\n"
     ]
    }
   ],
   "execution_count": 503
  },
  {
   "metadata": {
    "ExecuteTime": {
     "end_time": "2024-10-11T18:51:14.241446Z",
     "start_time": "2024-10-11T18:51:13.851076Z"
    }
   },
   "cell_type": "code",
   "source": [
    "# create submission\n",
    "forest_submission = create_submission(forest, pd.read_csv(\"data/test.csv\", index_col=\"id\"))\n",
    "forest_submission.to_csv(\"output/forest.csv\", index=False)"
   ],
   "id": "f17d507a288397e3",
   "outputs": [],
   "execution_count": 504
  },
  {
   "metadata": {},
   "cell_type": "markdown",
   "source": "### Third Model = MLP Classifier",
   "id": "7e0b877e8f567be"
  },
  {
   "metadata": {
    "ExecuteTime": {
     "end_time": "2024-10-11T18:51:14.245866Z",
     "start_time": "2024-10-11T18:51:14.244089Z"
    }
   },
   "cell_type": "code",
   "source": [
    "# try a neural network\n",
    "nn = make_pipeline(\n",
    "    preprocessing,\n",
    "    MLPClassifier(\n",
    "        hidden_layer_sizes=(128, 64,), alpha=0.01,\n",
    "        random_state=42, max_iter=1000, n_iter_no_change=10)\n",
    ")\n",
    "# nn = nn.fit(train, y_train)"
   ],
   "id": "344c4d348e4e80e5",
   "outputs": [],
   "execution_count": 505
  },
  {
   "metadata": {
    "ExecuteTime": {
     "end_time": "2024-10-11T18:51:14.249121Z",
     "start_time": "2024-10-11T18:51:14.247818Z"
    }
   },
   "cell_type": "code",
   "source": [
    "# scoring\n",
    "# training_score = nn.score(train, y_train)\n",
    "# validation_score = nn.score(validation, y_validation)\n",
    "# \n",
    "# # view scoring\n",
    "# print(f\"training accuracy: {training_score}\")\n",
    "# print(f\"validation accuracy: {validation_score}\")"
   ],
   "id": "b4954fa8c848bb1e",
   "outputs": [],
   "execution_count": 506
  },
  {
   "metadata": {
    "ExecuteTime": {
     "end_time": "2024-10-11T18:51:14.252254Z",
     "start_time": "2024-10-11T18:51:14.250934Z"
    }
   },
   "cell_type": "code",
   "source": [
    "# make submission\n",
    "# nn_output = create_submission(nn, pd.read_csv(\"data/test.csv\", index_col=\"id\"))\n",
    "# nn_output.to_csv(\"output/nn.csv\", index=False)"
   ],
   "id": "2b21ffd4ca262d2e",
   "outputs": [],
   "execution_count": 507
  },
  {
   "metadata": {},
   "cell_type": "markdown",
   "source": "## Feature Engineering",
   "id": "c84ed067b10bdb42"
  },
  {
   "metadata": {},
   "cell_type": "markdown",
   "source": "### Visualization",
   "id": "b197335e158a707c"
  },
  {
   "metadata": {
    "ExecuteTime": {
     "end_time": "2024-10-11T18:51:14.315660Z",
     "start_time": "2024-10-11T18:51:14.257068Z"
    }
   },
   "cell_type": "code",
   "source": [
    "# decision tree feature importance\n",
    "bar_plot = pd.Series(tree.steps[1][1].feature_importances_).plot(kind=\"barh\")"
   ],
   "id": "532fbceedc7207fe",
   "outputs": [
    {
     "data": {
      "text/plain": [
       "<Figure size 640x480 with 1 Axes>"
      ],
      "image/png": "[encoded data removed]"
     },
     "metadata": {},
     "output_type": "display_data"
    }
   ],
   "execution_count": 508
  },
  {
   "metadata": {
    "ExecuteTime": {
     "end_time": "2024-10-11T18:51:14.383470Z",
     "start_time": "2024-10-11T18:51:14.325196Z"
    }
   },
   "cell_type": "code",
   "source": [
    "# random forest feature importance\n",
    "bar_plot2 = pd.Series(forest.steps[1][1].feature_importances_).plot(kind=\"barh\")"
   ],
   "id": "883edbb2c7ce9a47",
   "outputs": [
    {
     "data": {
      "text/plain": [
       "<Figure size 640x480 with 1 Axes>"
      ],
      "image/png": "[encoded data removed]"
     },
     "metadata": {},
     "output_type": "display_data"
    }
   ],
   "execution_count": 509
  },
  {
   "metadata": {},
   "cell_type": "markdown",
   "source": "### PCA",
   "id": "6c228850e6ee3fe"
  },
  {
   "metadata": {
    "ExecuteTime": {
     "end_time": "2024-10-11T18:51:14.432757Z",
     "start_time": "2024-10-11T18:51:14.392086Z"
    }
   },
   "cell_type": "code",
   "source": [
    "# using pca analysis\n",
    "pca = PCA(n_components=15)\n",
    "pca_pipeline = make_pipeline(preprocessing, pca)\n",
    "train_pca = pca_pipeline.fit_transform(train)\n",
    "pca_pipeline[1].explained_variance_ratio_.sum()"
   ],
   "id": "a4a39998b3d64016",
   "outputs": [
    {
     "data": {
      "text/plain": [
       "0.9932214850692359"
      ]
     },
     "execution_count": 510,
     "metadata": {},
     "output_type": "execute_result"
    }
   ],
   "execution_count": 510
  },
  {
   "metadata": {
    "ExecuteTime": {
     "end_time": "2024-10-11T18:51:22.430758Z",
     "start_time": "2024-10-11T18:51:14.437610Z"
    }
   },
   "cell_type": "code",
   "source": [
    "# fitting model\n",
    "forest_pca = make_pipeline(\n",
    "    pca_pipeline, RandomForestClassifier(random_state=42, max_leaf_nodes=50)\n",
    ")\n",
    "forest_pca = forest_pca.fit(train, y_train)"
   ],
   "id": "abcf2c4e15375ad7",
   "outputs": [],
   "execution_count": 511
  },
  {
   "metadata": {
    "ExecuteTime": {
     "end_time": "2024-10-11T18:51:22.607464Z",
     "start_time": "2024-10-11T18:51:22.438694Z"
    }
   },
   "cell_type": "code",
   "source": [
    "# scoring\n",
    "train_score = forest_pca.score(train, y_train)\n",
    "validation_score = forest_pca.score(validation, y_validation)\n",
    "\n",
    "print(f\"training accuracy: {train_score}\")\n",
    "print(f\"validation accuracy: {validation_score}\")"
   ],
   "id": "25aaac18e50be2b0",
   "outputs": [
    {
     "name": "stdout",
     "output_type": "stream",
     "text": [
      "training accuracy: 0.9287709254922369\n",
      "validation accuracy: 0.939\n"
     ]
    }
   ],
   "execution_count": 512
  },
  {
   "metadata": {},
   "cell_type": "markdown",
   "source": "### Data Augmentation",
   "id": "77a2749c91ac93a7"
  },
  {
   "metadata": {
    "ExecuteTime": {
     "end_time": "2024-10-11T18:51:22.614337Z",
     "start_time": "2024-10-11T18:51:22.612394Z"
    }
   },
   "cell_type": "code",
   "source": [
    "def pca_augmentation(data):\n",
    "    pca_ = PCA(n_components=20)\n",
    "    data_pca = pca_.fit_transform(data)\n",
    "    less_data_pca = data_pca - 0.01\n",
    "    more_data_pca = data_pca + 0.01\n",
    "\n",
    "    output_ = pca_.inverse_transform(\n",
    "        np.concatenate([less_data_pca, data_pca, more_data_pca])\n",
    "    )\n",
    "    return output_"
   ],
   "id": "f098d4e28999750c",
   "outputs": [],
   "execution_count": 513
  },
  {
   "metadata": {
    "ExecuteTime": {
     "end_time": "2024-10-11T18:51:23.212494Z",
     "start_time": "2024-10-11T18:51:22.624136Z"
    }
   },
   "cell_type": "code",
   "source": [
    "pca_pipeline = make_pipeline(\n",
    "    preprocessing,\n",
    "    FunctionTransformer(pca_augmentation)\n",
    ")\n",
    "train_preprocessed = pca_pipeline.fit_transform(train)\n",
    "y_train_preprocessed = np.tile(y_train, 3).reshape(-1, 1)\n",
    "tree = DecisionTreeClassifier(random_state=42, max_depth=35, max_leaf_nodes=70) \\\n",
    "    .fit(train_preprocessed, y_train_preprocessed)\n",
    "\n",
    "model_pipeline = make_pipeline(preprocessing, tree)\n",
    "model_pipeline.score(validation, y_validation)"
   ],
   "id": "9815dc8d27b023bc",
   "outputs": [
    {
     "data": {
      "text/plain": [
       "0.958"
      ]
     },
     "execution_count": 514,
     "metadata": {},
     "output_type": "execute_result"
    }
   ],
   "execution_count": 514
  },
  {
   "metadata": {
    "ExecuteTime": {
     "end_time": "2024-10-11T18:54:29.055482Z",
     "start_time": "2024-10-11T18:54:28.969285Z"
    }
   },
   "cell_type": "code",
   "source": [
    "pca_submission = create_submission(model_pipeline, pd.read_csv(\"data/test.csv\", index_col=\"id\"))\n",
    "pca_submission.to_csv(\"output/pca_da.csv\", index=False)"
   ],
   "id": "96934099fe7cf90e",
   "outputs": [],
   "execution_count": 518
  },
  {
   "metadata": {},
   "cell_type": "markdown",
   "source": "### Class Imbalance Tuning",
   "id": "201408c51d12c84d"
  },
  {
   "metadata": {
    "ExecuteTime": {
     "end_time": "2024-10-11T18:51:29.824934Z",
     "start_time": "2024-10-11T18:51:23.217275Z"
    }
   },
   "cell_type": "code",
   "source": [
    "# building model\n",
    "class_imbalance_pipeline = make_pipeline(\n",
    "    preprocessing,\n",
    "    RandomForestClassifier(n_estimators=400, random_state=42, max_depth=35, max_leaf_nodes=70)\n",
    ")\n",
    "class_imbalance_pipeline = class_imbalance_pipeline.fit(train, y_train)"
   ],
   "id": "1ef34695fb2b14d4",
   "outputs": [],
   "execution_count": 515
  },
  {
   "metadata": {
    "ExecuteTime": {
     "end_time": "2024-10-11T18:51:30.465148Z",
     "start_time": "2024-10-11T18:51:29.830843Z"
    }
   },
   "cell_type": "code",
   "source": [
    "# scoring model\n",
    "training_score = class_imbalance_pipeline.score(train, y_train)\n",
    "validation_score = class_imbalance_pipeline.score(validation, y_validation)\n",
    "\n",
    "# show scores\n",
    "print(f\"training accuracy: {training_score}\")\n",
    "print(f\"validation accuracy: {validation_score}\")"
   ],
   "id": "ad05c320c07748cf",
   "outputs": [
    {
     "name": "stdout",
     "output_type": "stream",
     "text": [
      "training accuracy: 0.949397172347992\n",
      "validation accuracy: 0.954\n"
     ]
    }
   ],
   "execution_count": 516
  },
  {
   "metadata": {
    "ExecuteTime": {
     "end_time": "2024-10-11T18:51:30.996946Z",
     "start_time": "2024-10-11T18:51:30.526819Z"
    }
   },
   "cell_type": "code",
   "source": [
    "# create submission\n",
    "class_imbalance_submission = create_submission(class_imbalance_pipeline, pd.read_csv(\"data/test.csv\", index_col=\"id\"))\n",
    "class_imbalance_submission.to_csv(\"output/class_imbalance.csv\", index=False)"
   ],
   "id": "761b05250330d7fa",
   "outputs": [],
   "execution_count": 517
  }
 ],
 "metadata": {
  "kernelspec": {
   "display_name": "Python 3",
   "language": "python",
   "name": "python3"
  },
  "language_info": {
   "codemirror_mode": {
    "name": "ipython",
    "version": 2
   },
   "file_extension": ".py",
   "mimetype": "text/x-python",
   "name": "python",
   "nbconvert_exporter": "python",
   "pygments_lexer": "ipython2",
   "version": "2.7.6"
  }
 },
 "nbformat": 4,
 "nbformat_minor": 5
}
