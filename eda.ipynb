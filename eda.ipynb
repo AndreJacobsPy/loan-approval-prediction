{
 "cells": [
  {
   "cell_type": "code",
   "id": "initial_id",
   "metadata": {
    "collapsed": true,
    "ExecuteTime": {
     "end_time": "2024-10-10T17:48:33.922330Z",
     "start_time": "2024-10-10T17:48:33.906695Z"
    }
   },
   "source": [
    "import pandas as pd\n",
    "import matplotlib.pyplot as plt\n",
    "import scipy.stats as stats\n",
    "plt.style.use('ggplot')"
   ],
   "outputs": [],
   "execution_count": 88
  },
  {
   "metadata": {},
   "cell_type": "markdown",
   "source": [
    "# Loan Approval Competition\n",
    "\n",
    "This notebook is intended to get to know the data for the Loan Approval Competition on \n",
    "kaggle. The model I am aiming to develop will predict whether a loan will be approved or not."
   ],
   "id": "d22b892fdf31fefe"
  },
  {
   "metadata": {
    "ExecuteTime": {
     "end_time": "2024-10-10T17:48:34.007848Z",
     "start_time": "2024-10-10T17:48:33.941562Z"
    }
   },
   "cell_type": "code",
   "source": [
    "# load training data\n",
    "train = pd.read_csv('data/train.csv')\n",
    "train = train.set_index(\"id\")\n",
    "train.head()"
   ],
   "id": "537e94818bf748d7",
   "outputs": [
    {
     "data": {
      "text/plain": [
       "    person_age  person_income person_home_ownership  person_emp_length  \\\n",
       "id                                                                       \n",
       "0           37          35000                  RENT                0.0   \n",
       "1           22          56000                   OWN                6.0   \n",
       "2           29          28800                   OWN                8.0   \n",
       "3           30          70000                  RENT               14.0   \n",
       "4           22          60000                  RENT                2.0   \n",
       "\n",
       "   loan_intent loan_grade  loan_amnt  loan_int_rate  loan_percent_income  \\\n",
       "id                                                                         \n",
       "0    EDUCATION          B       6000          11.49                 0.17   \n",
       "1      MEDICAL          C       4000          13.35                 0.07   \n",
       "2     PERSONAL          A       6000           8.90                 0.21   \n",
       "3      VENTURE          B      12000          11.11                 0.17   \n",
       "4      MEDICAL          A       6000           6.92                 0.10   \n",
       "\n",
       "   cb_person_default_on_file  cb_person_cred_hist_length  loan_status  \n",
       "id                                                                     \n",
       "0                          N                          14            0  \n",
       "1                          N                           2            0  \n",
       "2                          N                          10            0  \n",
       "3                          N                           5            0  \n",
       "4                          N                           3            0  "
      ],
      "text/html": [
       "<div>\n",
       "<style scoped>\n",
       "    .dataframe tbody tr th:only-of-type {\n",
       "        vertical-align: middle;\n",
       "    }\n",
       "\n",
       "    .dataframe tbody tr th {\n",
       "        vertical-align: top;\n",
       "    }\n",
       "\n",
       "    .dataframe thead th {\n",
       "        text-align: right;\n",
       "    }\n",
       "</style>\n",
       "<table border=\"1\" class=\"dataframe\">\n",
       "  <thead>\n",
       "    <tr style=\"text-align: right;\">\n",
       "      <th></th>\n",
       "      <th>person_age</th>\n",
       "      <th>person_income</th>\n",
       "      <th>person_home_ownership</th>\n",
       "      <th>person_emp_length</th>\n",
       "      <th>loan_intent</th>\n",
       "      <th>loan_grade</th>\n",
       "      <th>loan_amnt</th>\n",
       "      <th>loan_int_rate</th>\n",
       "      <th>loan_percent_income</th>\n",
       "      <th>cb_person_default_on_file</th>\n",
       "      <th>cb_person_cred_hist_length</th>\n",
       "      <th>loan_status</th>\n",
       "    </tr>\n",
       "    <tr>\n",
       "      <th>id</th>\n",
       "      <th></th>\n",
       "      <th></th>\n",
       "      <th></th>\n",
       "      <th></th>\n",
       "      <th></th>\n",
       "      <th></th>\n",
       "      <th></th>\n",
       "      <th></th>\n",
       "      <th></th>\n",
       "      <th></th>\n",
       "      <th></th>\n",
       "      <th></th>\n",
       "    </tr>\n",
       "  </thead>\n",
       "  <tbody>\n",
       "    <tr>\n",
       "      <th>0</th>\n",
       "      <td>37</td>\n",
       "      <td>35000</td>\n",
       "      <td>RENT</td>\n",
       "      <td>0.0</td>\n",
       "      <td>EDUCATION</td>\n",
       "      <td>B</td>\n",
       "      <td>6000</td>\n",
       "      <td>11.49</td>\n",
       "      <td>0.17</td>\n",
       "      <td>N</td>\n",
       "      <td>14</td>\n",
       "      <td>0</td>\n",
       "    </tr>\n",
       "    <tr>\n",
       "      <th>1</th>\n",
       "      <td>22</td>\n",
       "      <td>56000</td>\n",
       "      <td>OWN</td>\n",
       "      <td>6.0</td>\n",
       "      <td>MEDICAL</td>\n",
       "      <td>C</td>\n",
       "      <td>4000</td>\n",
       "      <td>13.35</td>\n",
       "      <td>0.07</td>\n",
       "      <td>N</td>\n",
       "      <td>2</td>\n",
       "      <td>0</td>\n",
       "    </tr>\n",
       "    <tr>\n",
       "      <th>2</th>\n",
       "      <td>29</td>\n",
       "      <td>28800</td>\n",
       "      <td>OWN</td>\n",
       "      <td>8.0</td>\n",
       "      <td>PERSONAL</td>\n",
       "      <td>A</td>\n",
       "      <td>6000</td>\n",
       "      <td>8.90</td>\n",
       "      <td>0.21</td>\n",
       "      <td>N</td>\n",
       "      <td>10</td>\n",
       "      <td>0</td>\n",
       "    </tr>\n",
       "    <tr>\n",
       "      <th>3</th>\n",
       "      <td>30</td>\n",
       "      <td>70000</td>\n",
       "      <td>RENT</td>\n",
       "      <td>14.0</td>\n",
       "      <td>VENTURE</td>\n",
       "      <td>B</td>\n",
       "      <td>12000</td>\n",
       "      <td>11.11</td>\n",
       "      <td>0.17</td>\n",
       "      <td>N</td>\n",
       "      <td>5</td>\n",
       "      <td>0</td>\n",
       "    </tr>\n",
       "    <tr>\n",
       "      <th>4</th>\n",
       "      <td>22</td>\n",
       "      <td>60000</td>\n",
       "      <td>RENT</td>\n",
       "      <td>2.0</td>\n",
       "      <td>MEDICAL</td>\n",
       "      <td>A</td>\n",
       "      <td>6000</td>\n",
       "      <td>6.92</td>\n",
       "      <td>0.10</td>\n",
       "      <td>N</td>\n",
       "      <td>3</td>\n",
       "      <td>0</td>\n",
       "    </tr>\n",
       "  </tbody>\n",
       "</table>\n",
       "</div>"
      ]
     },
     "execution_count": 89,
     "metadata": {},
     "output_type": "execute_result"
    }
   ],
   "execution_count": 89
  },
  {
   "metadata": {
    "ExecuteTime": {
     "end_time": "2024-10-10T17:48:34.085829Z",
     "start_time": "2024-10-10T17:48:34.072441Z"
    }
   },
   "cell_type": "code",
   "source": [
    "# shape of the data\n",
    "print(f\"Number of rows: {train.shape[0]}\")\n",
    "print(f\"Number of columns: {train.shape[1]}\")"
   ],
   "id": "5823cbcb24be1c13",
   "outputs": [
    {
     "name": "stdout",
     "output_type": "stream",
     "text": [
      "Number of rows: 58645\n",
      "Number of columns: 12\n"
     ]
    }
   ],
   "execution_count": 90
  },
  {
   "metadata": {
    "ExecuteTime": {
     "end_time": "2024-10-10T17:48:34.164865Z",
     "start_time": "2024-10-10T17:48:34.148185Z"
    }
   },
   "cell_type": "code",
   "source": [
    "# look at data types\n",
    "train.info()"
   ],
   "id": "98dd990932c6e6c7",
   "outputs": [
    {
     "name": "stdout",
     "output_type": "stream",
     "text": [
      "<class 'pandas.core.frame.DataFrame'>\n",
      "Index: 58645 entries, 0 to 58644\n",
      "Data columns (total 12 columns):\n",
      " #   Column                      Non-Null Count  Dtype  \n",
      "---  ------                      --------------  -----  \n",
      " 0   person_age                  58645 non-null  int64  \n",
      " 1   person_income               58645 non-null  int64  \n",
      " 2   person_home_ownership       58645 non-null  object \n",
      " 3   person_emp_length           58645 non-null  float64\n",
      " 4   loan_intent                 58645 non-null  object \n",
      " 5   loan_grade                  58645 non-null  object \n",
      " 6   loan_amnt                   58645 non-null  int64  \n",
      " 7   loan_int_rate               58645 non-null  float64\n",
      " 8   loan_percent_income         58645 non-null  float64\n",
      " 9   cb_person_default_on_file   58645 non-null  object \n",
      " 10  cb_person_cred_hist_length  58645 non-null  int64  \n",
      " 11  loan_status                 58645 non-null  int64  \n",
      "dtypes: float64(3), int64(5), object(4)\n",
      "memory usage: 5.8+ MB\n"
     ]
    }
   ],
   "execution_count": 91
  },
  {
   "metadata": {},
   "cell_type": "markdown",
   "source": [
    "This dataset has 13 columns, including the id column and the target column. The dataset has 58645 rows, in the training set. The data involves some personal information\n",
    "pertaining to the persons economic stance and some information on what type of loan \n",
    "they would want.\n",
    "\n",
    "It is important to recognize that this model, in production could be used to determine \n",
    "someone's future and our model needs to be both accurate for the bank and fair for the \n",
    "customer, avoiding some bias towards certain groups of people."
   ],
   "id": "311a7552d77df104"
  },
  {
   "metadata": {},
   "cell_type": "markdown",
   "source": [
    "## Loan Acceptance Analysis By Column\n",
    "\n",
    "### Some Helper functions\n",
    "\n",
    "To avoid code duplication below are some helper function for plotting and basic aggregations."
   ],
   "id": "85306df4e6423860"
  },
  {
   "metadata": {
    "ExecuteTime": {
     "end_time": "2024-10-10T17:48:34.216966Z",
     "start_time": "2024-10-10T17:48:34.197317Z"
    }
   },
   "cell_type": "code",
   "source": [
    "def plot_continuous(df: pd.DataFrame, column: str) -> None:\n",
    "    \"\"\"This is a function that plots two histograms showing difference\n",
    "    in distributions between two output classes corresponding to variable in \n",
    "    question.\n",
    "    \n",
    "    Arguments:\n",
    "        df: DataFrame = the dataset in question\n",
    "        column: str = a continuous column from dataset\n",
    "    \"\"\"\n",
    "    \n",
    "    # first validate argument\n",
    "    if column not in df.columns:\n",
    "        raise ValueError(f\"{column} is not in the DataFrame.\")\n",
    "    \n",
    "    # create aggregations\n",
    "    approved = df.query(\"loan_status == 0\")[column]\n",
    "    not_approved = df.query(\"loan_status == 1\")[column]\n",
    "    \n",
    "    # create plot\n",
    "    fig, (ax1, ax2) = plt.subplots(\n",
    "        nrows=1, ncols=2, \n",
    "        sharex=\"all\", sharey=\"all\", \n",
    "        figsize=(10, 5)\n",
    "    )\n",
    "    ax1.hist(approved, label=\"Approved\", color=\"dodgerblue\", bins=20)\n",
    "    ax1.set_ylabel(\"proportion\")\n",
    "    ax2.hist(not_approved, label=\"Not Approved\", bins=20)\n",
    "    fig.suptitle(f\"Distribution of {column}\")\n",
    "    fig.legend()\n",
    "    plt.show()\n",
    "    \n",
    "    \n",
    "# plot_continuous(train, \"loan_percent_income\")"
   ],
   "id": "6eeb6e3599eadbb3",
   "outputs": [],
   "execution_count": 92
  },
  {
   "metadata": {
    "ExecuteTime": {
     "end_time": "2024-10-10T17:48:34.251600Z",
     "start_time": "2024-10-10T17:48:34.237484Z"
    }
   },
   "cell_type": "code",
   "source": [
    "def plot_categorical(df: pd.DataFrame, column: str) -> None:\n",
    "    \"\"\"This is a function that plots two count plots showing difference\n",
    "    in distributions between two output classes corresponding to variable in \n",
    "    question.\n",
    "    \n",
    "    Arguments:\n",
    "        df: DataFrame = the dataset in question\n",
    "        column: str = a continuous column from dataset\n",
    "    \"\"\"\n",
    "    \n",
    "    # first validate argument\n",
    "    if column not in df.columns:\n",
    "        raise ValueError(f\"{column} is not in the DataFrame.\")\n",
    "    \n",
    "    # create aggregations\n",
    "    approved = df.query(\"loan_status == 0\")[column].value_counts()\n",
    "    not_approved = df.query(\"loan_status == 1\")[column].value_counts()\n",
    "    \n",
    "    # create plot\n",
    "    fig, (ax1, ax2) = plt.subplots(\n",
    "        nrows=1, ncols=2, \n",
    "        sharex=\"all\", sharey=\"all\", \n",
    "        figsize=(10, 5)\n",
    "    )\n",
    "    ax1.bar(approved.index, approved.values, label=\"Approved\", color=\"dodgerblue\")\n",
    "    ax2.bar(not_approved.index, not_approved.values, label=\"Not Approved\")\n",
    "    fig.suptitle(f\"Distribution of {column}\")\n",
    "    fig.legend()\n",
    "    plt.show()\n",
    "    \n",
    "    \n",
    "# plot_categorical(train, \"person_home_ownership\")"
   ],
   "id": "a9955f34d8b98834",
   "outputs": [],
   "execution_count": 93
  },
  {
   "metadata": {},
   "cell_type": "markdown",
   "source": [
    "### Loan Status\n",
    "\n",
    "First things first, I want to ensure I understand what I am actually trying to predict."
   ],
   "id": "b4b396ac1fcf1ef1"
  },
  {
   "metadata": {
    "ExecuteTime": {
     "end_time": "2024-10-10T17:48:34.283226Z",
     "start_time": "2024-10-10T17:48:34.270143Z"
    }
   },
   "cell_type": "code",
   "source": [
    "# proportions of outcome classes\n",
    "train[\"loan_status\"].value_counts(normalize=True)"
   ],
   "id": "b35c7bec97a16773",
   "outputs": [
    {
     "data": {
      "text/plain": [
       "loan_status\n",
       "0    0.857618\n",
       "1    0.142382\n",
       "Name: proportion, dtype: float64"
      ]
     },
     "execution_count": 94,
     "metadata": {},
     "output_type": "execute_result"
    }
   ],
   "execution_count": 94
  },
  {
   "metadata": {},
   "cell_type": "markdown",
   "source": [
    "### Person Age\n",
    "\n",
    "This could potentially be a column that can increase bias in the model. This could\n",
    "be interesting to see if there is a real difference."
   ],
   "id": "20c100fb3d4b47b9"
  },
  {
   "metadata": {
    "ExecuteTime": {
     "end_time": "2024-10-10T17:48:34.554025Z",
     "start_time": "2024-10-10T17:48:34.348680Z"
    }
   },
   "cell_type": "code",
   "source": [
    "# start with plot to look for visual differences\n",
    "plot_continuous(train, \"person_age\")"
   ],
   "id": "38d5cb2969a1533c",
   "outputs": [
    {
     "data": {
      "text/plain": [
       "<Figure size 1000x500 with 2 Axes>"
      ],
      "image/png": "[encoded data removed]"
     },
     "metadata": {},
     "output_type": "display_data"
    }
   ],
   "execution_count": 95
  },
  {
   "metadata": {},
   "cell_type": "markdown",
   "source": "The two distributions of age look quite similar. This is interesting, I would expect the approved distribution to be slightly older than the group that was not approved.\n",
   "id": "f83ce5af23166089"
  },
  {
   "metadata": {
    "ExecuteTime": {
     "end_time": "2024-10-10T17:48:34.619746Z",
     "start_time": "2024-10-10T17:48:34.599271Z"
    }
   },
   "cell_type": "code",
   "source": [
    "approved = train.query(\"loan_status == 1\")[\"person_age\"]\n",
    "not_approved = train.query(\"loan_status == 0\")[\"person_age\"]\n",
    "p_val = stats.ttest_ind(approved, not_approved)[1].round(2)\n",
    "print(f\"p value is {p_val}\")"
   ],
   "id": "6ad6b3a31bdea627",
   "outputs": [
    {
     "name": "stdout",
     "output_type": "stream",
     "text": [
      "p value is 0.78\n"
     ]
    }
   ],
   "execution_count": 96
  },
  {
   "metadata": {},
   "cell_type": "markdown",
   "source": [
    "With above results, there is not a significant different in the mean between the\n",
    "two groups of data. The p value of 0.78 shows there is not enough evidence to show \n",
    "that these two samples come from different populations."
   ],
   "id": "626009676a49c6c1"
  },
  {
   "metadata": {},
   "cell_type": "markdown",
   "source": [
    "### Person Income\n",
    "\n",
    "This should be a major factor in someone's ability to pay off a loan, but a proportion\n",
    "of loan_amount / income could be a good metric as well."
   ],
   "id": "55a03d1da0b6f240"
  },
  {
   "metadata": {
    "ExecuteTime": {
     "end_time": "2024-10-10T17:48:34.834413Z",
     "start_time": "2024-10-10T17:48:34.639024Z"
    }
   },
   "cell_type": "code",
   "source": [
    "# plot income\n",
    "plot_continuous(train, \"person_income\")"
   ],
   "id": "2b8677c5659b4458",
   "outputs": [
    {
     "data": {
      "text/plain": [
       "<Figure size 1000x500 with 2 Axes>"
      ],
      "image/png": "[encoded data removed]"
     },
     "metadata": {},
     "output_type": "display_data"
    }
   ],
   "execution_count": 97
  },
  {
   "metadata": {},
   "cell_type": "markdown",
   "source": [
    "With such large differences in class label sizes, this plot does not provide much \n",
    "information."
   ],
   "id": "abeb384588262cb7"
  },
  {
   "metadata": {
    "ExecuteTime": {
     "end_time": "2024-10-10T17:48:34.883320Z",
     "start_time": "2024-10-10T17:48:34.870143Z"
    }
   },
   "cell_type": "code",
   "source": "train.groupby([\"loan_status\"])[\"person_income\"].mean()",
   "id": "9d381d2d16aeec96",
   "outputs": [
    {
     "data": {
      "text/plain": [
       "loan_status\n",
       "0    66672.867720\n",
       "1    48224.661796\n",
       "Name: person_income, dtype: float64"
      ]
     },
     "execution_count": 98,
     "metadata": {},
     "output_type": "execute_result"
    }
   ],
   "execution_count": 98
  },
  {
   "metadata": {},
   "cell_type": "markdown",
   "source": [
    "This shows that people that get approved by loans tend to make more money, which \n",
    "makes sense and follows general intuition."
   ],
   "id": "9b74c24266569c1a"
  },
  {
   "metadata": {},
   "cell_type": "markdown",
   "source": [
    "### Person Home Ownership\n",
    "\n",
    "My general opinion is that someone who has ownership of their house would typically be \n",
    "in a better financial position and would be lower risk for default."
   ],
   "id": "19738b60ab676591"
  },
  {
   "metadata": {
    "ExecuteTime": {
     "end_time": "2024-10-10T17:55:49.418627Z",
     "start_time": "2024-10-10T17:55:49.268508Z"
    }
   },
   "cell_type": "code",
   "source": [
    "# plot differences\n",
    "plot_categorical(train, \"person_home_ownership\")"
   ],
   "id": "eb9d1ee5de533ae0",
   "outputs": [
    {
     "data": {
      "text/plain": [
       "<Figure size 1000x500 with 2 Axes>"
      ],
      "image/png": "[encoded data removed]"
     },
     "metadata": {},
     "output_type": "display_data"
    }
   ],
   "execution_count": 99
  },
  {
   "metadata": {
    "ExecuteTime": {
     "end_time": "2024-10-10T18:04:07.140292Z",
     "start_time": "2024-10-10T18:04:07.109222Z"
    }
   },
   "cell_type": "code",
   "source": [
    "# look at tabular representation\n",
    "train.groupby([\"person_home_ownership\", \"loan_status\"])[\"loan_status\"].count() /\\\n",
    "    train.groupby(\"loan_status\")[\"loan_status\"].count()"
   ],
   "id": "12c0c1e35ed33202",
   "outputs": [
    {
     "data": {
      "text/plain": [
       "person_home_ownership  loan_status\n",
       "MORTGAGE               0              0.464082\n",
       "                       1              0.177605\n",
       "OTHER                  0              0.001471\n",
       "                       1              0.001796\n",
       "OWN                    0              0.061537\n",
       "                       1              0.005150\n",
       "RENT                   0              0.472910\n",
       "                       1              0.815449\n",
       "Name: loan_status, dtype: float64"
      ]
     },
     "execution_count": 103,
     "metadata": {},
     "output_type": "execute_result"
    }
   ],
   "execution_count": 103
  },
  {
   "metadata": {},
   "cell_type": "markdown",
   "source": [
    "My previous claims seem to have merit, the people who tend to get rejected most often \n",
    "are mostly renters with about 80 % of them renting compared to around 47 % renters in \n",
    "other group. "
   ],
   "id": "1cdf63a4fd29098a"
  },
  {
   "metadata": {},
   "cell_type": "markdown",
   "source": [
    "### Person Employment Length\n",
    "\n",
    "This should have a large impact on someone's ability to pay a loan and is usually \n",
    "heavily correlated with a good credit rating."
   ],
   "id": "f7fa9c31b718e8c2"
  },
  {
   "metadata": {
    "ExecuteTime": {
     "end_time": "2024-10-10T18:18:56.864625Z",
     "start_time": "2024-10-10T18:18:56.675654Z"
    }
   },
   "cell_type": "code",
   "source": [
    "# plot\n",
    "plot_continuous(train, \"person_emp_length\")"
   ],
   "id": "6f88a29961595ef0",
   "outputs": [
    {
     "data": {
      "text/plain": [
       "<Figure size 1000x500 with 2 Axes>"
      ],
      "image/png": "[encoded data removed]"
     },
     "metadata": {},
     "output_type": "display_data"
    }
   ],
   "execution_count": 104
  },
  {
   "metadata": {},
   "cell_type": "code",
   "outputs": [],
   "execution_count": null,
   "source": "",
   "id": "efb94b4053c596ce"
  }
 ],
 "metadata": {
  "kernelspec": {
   "display_name": "Python 3",
   "language": "python",
   "name": "python3"
  },
  "language_info": {
   "codemirror_mode": {
    "name": "ipython",
    "version": 2
   },
   "file_extension": ".py",
   "mimetype": "text/x-python",
   "name": "python",
   "nbconvert_exporter": "python",
   "pygments_lexer": "ipython2",
   "version": "2.7.6"
  }
 },
 "nbformat": 4,
 "nbformat_minor": 5
}
